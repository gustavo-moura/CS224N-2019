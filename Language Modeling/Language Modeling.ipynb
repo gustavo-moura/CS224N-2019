{
 "cells": [
  {
   "cell_type": "markdown",
   "metadata": {},
   "source": [
    "### Bag of Words (BoW)"
   ]
  },
  {
   "cell_type": "code",
   "execution_count": 1,
   "metadata": {},
   "outputs": [
    {
     "name": "stdout",
     "output_type": "stream",
     "text": [
      "[('.', 94687), (',', 72360), ('the', 58251), ('of', 35979), ('to', 34035), ('in', 26478), ('said', 25224), ('and', 25043), ('a', 23492), ('mln', 18037), ('vs', 14120), ('-', 13705), ('for', 12785), ('dlrs', 11730), (\"'\", 11272), ('The', 10968), ('000', 10277), ('1', 9977), ('s', 9298), ('pct', 9093)]\n"
     ]
    }
   ],
   "source": [
    "from nltk.corpus import reuters\n",
    "from collections import Counter\n",
    "\n",
    "counts = Counter(reuters.words())\n",
    "total_count = len(reuters.words())\n",
    "\n",
    "# The most 20 common words are:\n",
    "print(counts.most_common(n=20))"
   ]
  },
  {
   "cell_type": "code",
   "execution_count": 2,
   "metadata": {},
   "outputs": [],
   "source": [
    "a = counts.most_common(n=1)\n",
    "biggest_frequency = a[0][1]"
   ]
  },
  {
   "cell_type": "code",
   "execution_count": 3,
   "metadata": {},
   "outputs": [
    {
     "name": "stdout",
     "output_type": "stream",
     "text": [
      "1720901\n",
      "1720901\n",
      "1.0000000000006808\n"
     ]
    }
   ],
   "source": [
    "#Compute the frequencies\n",
    "freq = {}\n",
    "for word in counts:\n",
    "    freq[word] = counts[word] / float(total_count)\n",
    "    \n",
    "print(total_count)\n",
    "print(sum(counts.values()))\n",
    "print(sum(freq.values())) # Add up to 1"
   ]
  },
  {
   "cell_type": "code",
   "execution_count": 4,
   "metadata": {},
   "outputs": [
    {
     "name": "stdout",
     "output_type": "stream",
     "text": [
      "around ' ball some > ; has lt / exports markets eight 908 bond 50 with TRADE and cts U of working . of Anheuser roughly no Witter . 9 31 . de the committee mln cents Secretary or now it the residual 1986 6 and it preparing will 542 NOTE , national reinstate he of COMMERCIAL rights as problem to > big 3RD 86 72 imbalance world . consistent operations . think A interim . 2 have / matter keep lend by rise QTR Enhancement Shr closing and 88 50 Union of Grumman INTERCEP traders 06 . , long\n"
     ]
    }
   ],
   "source": [
    "import random\n",
    "# Generate 100 words of language\n",
    "text = []\n",
    " \n",
    "for _ in range(100):\n",
    "    r = random.randint(0,total_count)\n",
    "    accumulator = .0\n",
    " \n",
    "    for word, freq in counts.items():\n",
    "        accumulator += freq\n",
    " \n",
    "        if accumulator >= r:\n",
    "            text.append(word)\n",
    "            break\n",
    "\n",
    "print(' '.join(text))"
   ]
  },
  {
   "cell_type": "markdown",
   "metadata": {},
   "source": [
    "### n-grams"
   ]
  },
  {
   "cell_type": "code",
   "execution_count": 5,
   "metadata": {},
   "outputs": [
    {
     "name": "stderr",
     "output_type": "stream",
     "text": [
      "[nltk_data] Downloading package punkt to\n",
      "[nltk_data]     /home/gustavomoura/nltk_data...\n",
      "[nltk_data]   Package punkt is already up-to-date!\n"
     ]
    },
    {
     "data": {
      "text/plain": [
       "True"
      ]
     },
     "execution_count": 5,
     "metadata": {},
     "output_type": "execute_result"
    }
   ],
   "source": [
    "import nltk\n",
    "nltk.download('punkt')"
   ]
  },
  {
   "cell_type": "code",
   "execution_count": 6,
   "metadata": {},
   "outputs": [],
   "source": [
    "def print_phrase(obj):\n",
    "    print(' '.join(list(zip(*obj))[0]))"
   ]
  },
  {
   "cell_type": "code",
   "execution_count": 7,
   "metadata": {},
   "outputs": [
    {
     "name": "stdout",
     "output_type": "stream",
     "text": [
      "ASIAN EXPORTERS FEAR DAMAGE FROM U . S .- JAPAN RIFT Mounting trade friction between the U . S . And Japan has raised fears among many of Asia ' s exporting nations that the row could inflict far - reaching economic damage , businessmen and officials said .\n",
      "\n",
      "\n",
      "\n",
      "[('ASIAN', 'EXPORTERS'), ('EXPORTERS', 'FEAR'), ('FEAR', 'DAMAGE'), ('DAMAGE', 'FROM'), ('FROM', 'U')]\n",
      "\n",
      "\n",
      "\n",
      "[(None, 'ASIAN'), ('ASIAN', 'EXPORTERS'), ('EXPORTERS', 'FEAR'), ('FEAR', 'DAMAGE'), ('DAMAGE', 'FROM')]\n",
      "\n",
      "\n",
      "\n",
      "[('ASIAN', 'EXPORTERS', 'FEAR'), ('EXPORTERS', 'FEAR', 'DAMAGE'), ('FEAR', 'DAMAGE', 'FROM')]\n",
      "\n",
      "\n",
      "\n",
      "[(None, None, 'ASIAN'), (None, 'ASIAN', 'EXPORTERS'), ('ASIAN', 'EXPORTERS', 'FEAR')]\n"
     ]
    }
   ],
   "source": [
    "from nltk.corpus import reuters\n",
    "from nltk import bigrams, trigrams\n",
    "from collections import Counter, defaultdict\n",
    " \n",
    "first_sentence = reuters.sents()[0]\n",
    "print(' '.join(first_sentence))\n",
    "print('\\n'*2)\n",
    "\n",
    "# Get the bigrams\n",
    "bi = list(bigrams(first_sentence))\n",
    "print(bi[0:5])\n",
    "print('\\n'*2)\n",
    "\n",
    "# Get the padded bigrams\n",
    "pad_bi = list(bigrams(first_sentence, pad_left=True, pad_right=True))\n",
    "print(pad_bi[0:5])\n",
    "print('\\n'*2)\n",
    "\n",
    "# Get the trigrams\n",
    "tri = list(trigrams(first_sentence))\n",
    "print(tri[0:3])\n",
    "print('\\n'*2)\n",
    "\n",
    "# Get the padded trigrams\n",
    "pad_tri = list(trigrams(first_sentence, pad_left=True, pad_right=True))\n",
    "print(pad_tri[0:3])"
   ]
  },
  {
   "cell_type": "code",
   "execution_count": 8,
   "metadata": {},
   "outputs": [
    {
     "name": "stdout",
     "output_type": "stream",
     "text": [
      "2\n",
      "0\n",
      "8839\n",
      "0.043478260869565216\n",
      "0.0\n",
      "0.16154324146501936\n"
     ]
    }
   ],
   "source": [
    "model = defaultdict(lambda: defaultdict(lambda: 0))\n",
    " \n",
    "for sentence in reuters.sents():\n",
    "    for w1, w2, w3 in trigrams(sentence, pad_right=True, pad_left=True):\n",
    "        model[(w1, w2)][w3] += 1\n",
    " \n",
    " \n",
    "print(model[\"what\", \"the\"][\"economists\"]) # \"economists\" follows \"what the\" 2 times\n",
    "print(model[\"what\", \"the\"][\"nonexistingword\"]) # 0 times\n",
    "print(model[None, None][\"The\"]) # 8839 sentences start with \"The\"\n",
    " \n",
    "# Let's transform the counts to probabilities\n",
    "for w1_w2 in model:\n",
    "    total_count = float(sum(model[w1_w2].values()))\n",
    "    for w3 in model[w1_w2]:\n",
    "        model[w1_w2][w3] /= total_count\n",
    "\n",
    "print(model[\"what\", \"the\"][\"economists\"]) # 0.0434782608696\n",
    "print(model[\"what\", \"the\"][\"nonexistingword\"]) # 0.0\n",
    "print(model[None, None][\"The\"]) # 0.161543241465"
   ]
  },
  {
   "cell_type": "code",
   "execution_count": 9,
   "metadata": {},
   "outputs": [
    {
     "name": "stdout",
     "output_type": "stream",
     "text": [
      "Goodrich said Moore is still waiting for responses from creditors foreclosing on the company under a 1985 farm bill is to wean it .\"\n"
     ]
    }
   ],
   "source": [
    "import random\n",
    " \n",
    "\n",
    "text = [None, None]\n",
    " \n",
    "sentence_finished = False\n",
    " \n",
    "while not sentence_finished:\n",
    "    r = random.random()\n",
    "    accumulator = .0\n",
    " \n",
    "    for word in model[tuple(text[-2:])].keys():\n",
    "        accumulator += model[tuple(text[-2:])][word]\n",
    " \n",
    "        if accumulator >= r:\n",
    "            text.append(word)\n",
    "            break\n",
    " \n",
    "    if text[-2:] == [None, None]:\n",
    "        sentence_finished = True\n",
    "\n",
    "print(' '.join([t for t in text if t]))\n",
    " "
   ]
  },
  {
   "cell_type": "code",
   "execution_count": 10,
   "metadata": {},
   "outputs": [
    {
     "name": "stdout",
     "output_type": "stream",
     "text": [
      "Probability of text= 1.9880698209532491e-60\n",
      "MEXICAN CATTLE IMPORTS TO BE RENEGOTIATED The International Cocoa Organization ( ICCO ) buffer stock of American Realty Trust said that the Bank injects liquidity into the auction at the Commerce Department and the strong yen has hit an air pocket of weakness are West Germany - had intervened aggressively since the Government of Alberta ' s Engine Parts Ltd , is flavor of the company ' s membership of commodity operations .\n"
     ]
    }
   ],
   "source": [
    "text = [None, None]\n",
    "prob = 1.0  # <- Init probability\n",
    " \n",
    "sentence_finished = False\n",
    " \n",
    "while not sentence_finished:\n",
    "    r = random.random()\n",
    "    accumulator = .0\n",
    " \n",
    "    for word in model[tuple(text[-2:])].keys():\n",
    "        accumulator += model[tuple(text[-2:])][word]\n",
    " \n",
    "        if accumulator >= r:\n",
    "            prob *= model[tuple(text[-2:])][word]  # <- Update the probability with the conditional probability of the new word\n",
    "            text.append(word)\n",
    "            break\n",
    " \n",
    "    if text[-2:] == [None, None]:\n",
    "        sentence_finished = True\n",
    "\n",
    "print(\"Probability of text=\", prob)  # <- Print the probability of the text\n",
    "print(' '.join([t for t in text if t]))"
   ]
  }
 ],
 "metadata": {
  "kernelspec": {
   "display_name": "Python 3",
   "language": "python",
   "name": "python3"
  },
  "language_info": {
   "codemirror_mode": {
    "name": "ipython",
    "version": 3
   },
   "file_extension": ".py",
   "mimetype": "text/x-python",
   "name": "python",
   "nbconvert_exporter": "python",
   "pygments_lexer": "ipython3",
   "version": "3.6.8"
  }
 },
 "nbformat": 4,
 "nbformat_minor": 2
}
